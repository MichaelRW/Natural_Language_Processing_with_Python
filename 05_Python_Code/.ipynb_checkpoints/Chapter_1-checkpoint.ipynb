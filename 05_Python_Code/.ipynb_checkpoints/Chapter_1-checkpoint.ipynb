{
 "cells": [
  {
   "cell_type": "code",
   "execution_count": 1,
   "metadata": {
    "collapsed": false
   },
   "outputs": [
    {
     "name": "stdout",
     "output_type": "stream",
     "text": [
      "*** Introductory Examples for the NLTK Book ***\n",
      "Loading text1, ..., text9 and sent1, ..., sent9\n",
      "Type the name of the text or sentence to view it.\n",
      "Type: 'texts()' or 'sents()' to list the materials.\n",
      "text1: Moby Dick by Herman Melville 1851\n",
      "text2: Sense and Sensibility by Jane Austen 1811\n",
      "text3: The Book of Genesis\n",
      "text4: Inaugural Address Corpus\n",
      "text5: Chat Corpus\n",
      "text6: Monty Python and the Holy Grail\n",
      "text7: Wall Street Journal\n",
      "text8: Personals Corpus\n",
      "text9: The Man Who Was Thursday by G . K . Chesterton 1908\n"
     ]
    }
   ],
   "source": [
    "from nltk.book import *"
   ]
  },
  {
   "cell_type": "code",
   "execution_count": 2,
   "metadata": {
    "collapsed": false
   },
   "outputs": [
    {
     "name": "stdout",
     "output_type": "stream",
     "text": [
      "Displaying 11 of 11 matches:\n",
      "ong the former , one was of a most monstrous size . ... This came towards us , \n",
      "ON OF THE PSALMS . \" Touching that monstrous bulk of the whale or ork we have r\n",
      "ll over with a heathenish array of monstrous clubs and spears . Some were thick\n",
      "d as you gazed , and wondered what monstrous cannibal and savage could ever hav\n",
      "that has survived the flood ; most monstrous and most mountainous ! That Himmal\n",
      "they might scout at Moby Dick as a monstrous fable , or still worse and more de\n",
      "th of Radney .'\" CHAPTER 55 Of the Monstrous Pictures of Whales . I shall ere l\n",
      "ing Scenes . In connexion with the monstrous pictures of whales , I am strongly\n",
      "ere to enter upon those still more monstrous stories of them which are to be fo\n",
      "ght have been rummaged out of this monstrous cabinet there is no telling . But \n",
      "of Whale - Bones ; for Whales of a monstrous size are oftentimes cast up dead u\n"
     ]
    }
   ],
   "source": [
    "text1.concordance(\"monstrous\")"
   ]
  },
  {
   "cell_type": "code",
   "execution_count": 3,
   "metadata": {
    "collapsed": false
   },
   "outputs": [
    {
     "name": "stdout",
     "output_type": "stream",
     "text": [
      "Displaying 11 of 11 matches:\n",
      ". \" Now , Palmer , you shall see a monstrous pretty girl .\" He immediately went\n",
      "your sister is to marry him . I am monstrous glad of it , for then I shall have\n",
      "ou may tell your sister . She is a monstrous lucky girl to get him , upon my ho\n",
      "k how you will like them . Lucy is monstrous pretty , and so good humoured and \n",
      " Jennings , \" I am sure I shall be monstrous glad of Miss Marianne ' s company \n",
      " usual noisy cheerfulness , \" I am monstrous glad to see you -- sorry I could n\n",
      "t however , as it turns out , I am monstrous glad there was never any thing in \n",
      "so scornfully ! for they say he is monstrous fond of her , as well he may . I s\n",
      "possible that she should .\" \" I am monstrous glad of it . Good gracious ! I hav\n",
      "thing of the kind . So then he was monstrous happy , and talked on some time ab\n",
      "e very genteel people . He makes a monstrous deal of money , and they keep thei\n"
     ]
    }
   ],
   "source": [
    "text2.concordance(\"monstrous\")"
   ]
  },
  {
   "cell_type": "code",
   "execution_count": 4,
   "metadata": {
    "collapsed": false
   },
   "outputs": [
    {
     "name": "stdout",
     "output_type": "stream",
     "text": [
      "No matches\n"
     ]
    }
   ],
   "source": [
    "text3.concordance(\"monstrous\")"
   ]
  },
  {
   "cell_type": "code",
   "execution_count": 5,
   "metadata": {
    "collapsed": false
   },
   "outputs": [
    {
     "name": "stdout",
     "output_type": "stream",
     "text": [
      "No matches\n"
     ]
    }
   ],
   "source": [
    "text4.concordance(\"monstrous\")"
   ]
  },
  {
   "cell_type": "code",
   "execution_count": 6,
   "metadata": {
    "collapsed": false
   },
   "outputs": [
    {
     "name": "stdout",
     "output_type": "stream",
     "text": [
      "No matches\n"
     ]
    }
   ],
   "source": [
    "text5.concordance(\"monstrous\")"
   ]
  },
  {
   "cell_type": "code",
   "execution_count": 7,
   "metadata": {
    "collapsed": false
   },
   "outputs": [
    {
     "name": "stdout",
     "output_type": "stream",
     "text": [
      "No matches\n"
     ]
    }
   ],
   "source": [
    "text6.concordance(\"monstrous\")"
   ]
  },
  {
   "cell_type": "code",
   "execution_count": 8,
   "metadata": {
    "collapsed": false
   },
   "outputs": [
    {
     "name": "stdout",
     "output_type": "stream",
     "text": [
      "No matches\n"
     ]
    }
   ],
   "source": [
    "text7.concordance(\"monstrous\")"
   ]
  },
  {
   "cell_type": "code",
   "execution_count": 9,
   "metadata": {
    "collapsed": false
   },
   "outputs": [
    {
     "name": "stdout",
     "output_type": "stream",
     "text": [
      "No matches\n"
     ]
    }
   ],
   "source": [
    "text8.concordance(\"monstrous\")"
   ]
  },
  {
   "cell_type": "code",
   "execution_count": 10,
   "metadata": {
    "collapsed": false
   },
   "outputs": [
    {
     "name": "stdout",
     "output_type": "stream",
     "text": [
      "Displaying 6 of 6 matches:\n",
      "warfish trees like some fierce and monstrous fruit . And this was strongest of \n",
      "ever thought of asking whether the monstrous man who almost filled and broke th\n",
      "ly to an infinite height above the monstrous men around him . For an instant , \n",
      "ving the square black mob like one monstrous beetle . In the very strong sunlig\n",
      ".\" Dr . Renard was a mild man with monstrous wealth ; his rooms were like the M\n",
      "efore one of them could move , the monstrous man had swung himself like some hu\n"
     ]
    }
   ],
   "source": [
    "text9.concordance(\"monstrous\")"
   ]
  },
  {
   "cell_type": "code",
   "execution_count": 11,
   "metadata": {
    "collapsed": false
   },
   "outputs": [
    {
     "name": "stdout",
     "output_type": "stream",
     "text": [
      "Displaying 25 of 79 matches:\n",
      ", however , and , as a mark of his affection for the three girls , he left them\n",
      "t . It was very well known that no affection was ever supposed to exist between\n",
      "deration of politeness or maternal affection on the side of the former , the tw\n",
      "d the suspicion -- the hope of his affection for me may warrant , without impru\n",
      "hich forbade the indulgence of his affection . She knew that his mother neither\n",
      "rd she gave one with still greater affection . Though her late conversation wit\n",
      " can never hope to feel or inspire affection again , and if her home be uncomfo\n",
      "m of the sense , elegance , mutual affection , and domestic comfort of the fami\n",
      ", and which recommended him to her affection beyond every thing else . His soci\n",
      "ween the parties might forward the affection of Mr . Willoughby , an equally st\n",
      " the most pointed assurance of her affection . Elinor could not be surprised at\n",
      "he natural consequence of a strong affection in a young and ardent mind . This \n",
      " opinion . But by an appeal to her affection for her mother , by representing t\n",
      " every alteration of a place which affection had established as perfect with hi\n",
      "e will always have one claim of my affection , which no other can possibly shar\n",
      "f the evening declared at once his affection and happiness . \" Shall we see you\n",
      "ause he took leave of us with less affection than his usual behaviour has shewn\n",
      "ness .\" \" I want no proof of their affection ,\" said Elinor ; \" but of their en\n",
      "onths , without telling her of his affection ;-- that they should part without \n",
      "ould be the natural result of your affection for her . She used to be all unres\n",
      "distinguished Elinor by no mark of affection . Marianne saw and listened with i\n",
      "th no inclination for expense , no affection for strangers , no profession , an\n",
      "till distinguished her by the same affection which once she had felt no doubt o\n",
      "al of her confidence in Edward ' s affection , to the remembrance of every mark\n",
      " was made ? Had he never owned his affection to yourself ?\" \" Oh , no ; but if \n"
     ]
    }
   ],
   "source": [
    "text2.concordance('affection')"
   ]
  },
  {
   "cell_type": "code",
   "execution_count": 12,
   "metadata": {
    "collapsed": false
   },
   "outputs": [
    {
     "name": "stdout",
     "output_type": "stream",
     "text": [
      "Displaying 25 of 38 matches:\n",
      "ay when they were created . And Adam lived an hundred and thirty years , and be\n",
      "ughters : And all the days that Adam lived were nine hundred and thirty yea and\n",
      "nd thirty yea and he died . And Seth lived an hundred and five years , and bega\n",
      "ve years , and begat Enos : And Seth lived after he begat Enos eight hundred an\n",
      "welve years : and he died . And Enos lived ninety years , and begat Cainan : An\n",
      " years , and begat Cainan : And Enos lived after he begat Cainan eight hundred \n",
      "ive years : and he died . And Cainan lived seventy years and begat Mahalaleel :\n",
      "rs and begat Mahalaleel : And Cainan lived after he begat Mahalaleel eight hund\n",
      "years : and he died . And Mahalaleel lived sixty and five years , and begat Jar\n",
      "s , and begat Jared : And Mahalaleel lived after he begat Jared eight hundred a\n",
      "and five yea and he died . And Jared lived an hundred sixty and two years , and\n",
      "o years , and he begat Eno And Jared lived after he begat Enoch eight hundred y\n",
      " and two yea and he died . And Enoch lived sixty and five years , and begat Met\n",
      " ; for God took him . And Methuselah lived an hundred eighty and seven years , \n",
      " , and begat Lamech . And Methuselah lived after he begat Lamech seven hundred \n",
      "nd nine yea and he died . And Lamech lived an hundred eighty and two years , an\n",
      "ch the LORD hath cursed . And Lamech lived after he begat Noah five hundred nin\n",
      "naan shall be his servant . And Noah lived after the flood three hundred and fi\n",
      "xad two years after the flo And Shem lived after he begat Arphaxad five hundred\n",
      "at sons and daughters . And Arphaxad lived five and thirty years , and begat Sa\n",
      "ars , and begat Salah : And Arphaxad lived after he begat Salah four hundred an\n",
      "begat sons and daughters . And Salah lived thirty years , and begat Eber : And \n",
      "y years , and begat Eber : And Salah lived after he begat Eber four hundred and\n",
      " begat sons and daughters . And Eber lived four and thirty years , and begat Pe\n",
      "y years , and begat Peleg : And Eber lived after he begat Peleg four hundred an\n"
     ]
    }
   ],
   "source": [
    "text3.concordance('lived')"
   ]
  },
  {
   "cell_type": "code",
   "execution_count": 13,
   "metadata": {
    "collapsed": false
   },
   "outputs": [
    {
     "name": "stdout",
     "output_type": "stream",
     "text": [
      "Displaying 25 of 98 matches:\n",
      "eliance on the protection of Almighty God , I shall forthwith commence the duti\n",
      "humble , acknowledged dependence upon God and His overruling providence . We ha\n",
      "great office I must humbly invoke the God of our fathers for wisdom and firmnes\n",
      "d the same Bible and pray to the same God , and each invokes His aid against th\n",
      "hat any men should dare to ask a just God ' s assistance in wringing their brea\n",
      "offenses which , in the providence of God , must needs come , but which , havin\n",
      "butes which the believers in a living God always ascribe to Him ? Fondly do we \n",
      "war may speedily pass away . Yet , if God wills that it continue until all the \n",
      "r all , with firmness in the right as God gives us to see the right , let us st\n",
      "the prayers of the nation to Almighty God in behalf of this consummation . Fell\n",
      "r , they have \" followed the light as God gave them to see the light .\" They ar\n",
      "ess their fathers and their fathers ' God that the Union was preserved , that s\n",
      "the support and blessings of Almighty God . Fellow citizens , in the presence o\n",
      "ng the power and goodness of Almighty God , who presides over the destiny of na\n",
      "expect the favor and help of Almighty God -- that He will give to me wisdom , s\n",
      " suggestion to enterprise and labor . God has placed upon our head a diadem and\n",
      "urn than the pledge I now give before God and these witnesses of unreserved and\n",
      "han human life can escape the laws of God and nature . Manifestly nothing is mo\n",
      "and invoking the guidance of Almighty God . Our faith teaches that there is no \n",
      "re is no safer reliance than upon the God of our fathers , who has so singularl\n",
      "e the direction and favor of Almighty God . I should shrink from the duties thi\n",
      " devolve upon it , and in the fear of God will \" take occasion by the hand and \n",
      " citizens and the aid of the Almighty God in the discharge of my responsible du\n",
      "our heartstrings like some air out of God ' s own presence , where justice and \n",
      " forward - looking men , to my side . God helping me , I will not fail them , i\n"
     ]
    }
   ],
   "source": [
    "text4.concordance('god')"
   ]
  },
  {
   "cell_type": "code",
   "execution_count": 14,
   "metadata": {
    "collapsed": false
   },
   "outputs": [
    {
     "name": "stdout",
     "output_type": "stream",
     "text": [
      "Displaying 25 of 302 matches:\n",
      " to the character of an independent nation seems to have been distinguished by\n",
      "f Heaven can never be expected on a nation that disregards the eternal rules o\n",
      "first , the representatives of this nation , then consisting of little more th\n",
      ", situation , and relations of this nation and country than any which had ever\n",
      ", prosperity , and happiness of the nation I have acquired an habitual attachm\n",
      "an be no spectacle presented by any nation more pleasing , more noble , majest\n",
      "party for its own ends , not of the nation for the national good . If that sol\n",
      "tures and the people throughout the nation . On this subject it might become m\n",
      "if a personal esteem for the French nation , formed in a residence of seven ye\n",
      "f our fellow - citizens by whatever nation , and if success can not be obtaine\n",
      "y , continue His blessing upon this nation and its Government and give it all \n",
      "powers so justly inspire . A rising nation , spread over a wide and fruitful l\n",
      "ing now decided by the voice of the nation , announced according to the rules \n",
      "ars witness to the fact that a just nation is trusted on its word when recours\n",
      "e union of opinion which gives to a nation the blessing of harmony and the ben\n",
      "uil suffrage of a free and virtuous nation , would under any circumstances hav\n",
      "d spirit and united councils of the nation will be safeguards to its honor and\n",
      "iction that the war with a powerful nation , which forms so prominent a featur\n",
      "out breaking down the spirit of the nation , destroying all confidence in itse\n",
      "ed on the military resources of the nation . These resources are amply suffici\n",
      "the war to an honorable issue . Our nation is in number more than half that of\n",
      "ndividually have been happy and the nation prosperous . Under this Constitutio\n",
      "rights , and is able to protect the nation against injustice from foreign powe\n",
      " great agricultural interest of the nation prospers under its protection . Loc\n",
      "ak our Union , and demolish us as a nation . Our distance from Europe and the \n"
     ]
    }
   ],
   "source": [
    "text4.concordance('nation')"
   ]
  },
  {
   "cell_type": "code",
   "execution_count": 15,
   "metadata": {
    "collapsed": false,
    "scrolled": true
   },
   "outputs": [
    {
     "name": "stdout",
     "output_type": "stream",
     "text": [
      "Displaying 15 of 15 matches:\n",
      "there ya go U7 do n't golf clap me . fuck you U121 :@ whats everyone up to ? P\n",
      "ww you guys type too much . shut the fuck up . girl jerks ?? . ACTION gives U6\n",
      "ives U68 a nice massage . u shut the fuck up PART no i dont want daughters !! \n",
      "y .. Guess what PART i hate you U121 fuck your ugly JOIN if i had a daughter s\n",
      " go ahead pm me baby U109 .. get the fuck outta my PM ! in case you girls did \n",
      " U40 lol dude stop saying that wanna fuck U104 too many names cant think lol w\n",
      "nno ok la la la nah leave me alone ! fuck a virgin .. hmmm lol U110 youre craz\n",
      "l at least he 'll remember his first fuck lol U110 . ACTION sits in her corner\n",
      "or blade being alone JOIN U104 wanna fuck a virgin ! hug U42 . ACTION watches \n",
      "rs old and still a virgin male wanna fuck ! seen a girl with a nice bust I 've\n",
      " my bot U31 ? lol hahaha hgey doesnt fuck U69 ... mwahhs U69 what happened las\n",
      "d and still a virgin male do u wanna fuck U91 i am being nice AHHAH U21 lmao i\n",
      " burns you cant dis a tryer will you fuck me if i cry ? no im just bored u who\n",
      "ou a more current one :-o brb hb ! A fuck would suffice haha PART hi U45 PART \n",
      "114 you must dance with --> U43 !! * fuck the system hel over the comon man ju\n"
     ]
    }
   ],
   "source": [
    "text5.concordance('fuck')"
   ]
  },
  {
   "cell_type": "code",
   "execution_count": 16,
   "metadata": {
    "collapsed": false
   },
   "outputs": [
    {
     "name": "stdout",
     "output_type": "stream",
     "text": [
      "imperial subtly impalpable pitiable curious abundant perilous\n",
      "trustworthy untoward singular lamentable few determined maddens\n",
      "horrible tyrannical lazy mystifying christian exasperate\n"
     ]
    }
   ],
   "source": [
    "text1.similar('monstrous')  # Hermann Melville - Negative Connotations - Find words in the same context as \"monstrous.\""
   ]
  },
  {
   "cell_type": "code",
   "execution_count": 17,
   "metadata": {
    "collapsed": false
   },
   "outputs": [
    {
     "name": "stdout",
     "output_type": "stream",
     "text": [
      "very exceedingly so heartily a great good amazingly as sweet\n",
      "remarkably extremely vast\n"
     ]
    }
   ],
   "source": [
    "text2.similar('monstrous')  # Jane Austen - Positive Connotations"
   ]
  },
  {
   "cell_type": "code",
   "execution_count": 18,
   "metadata": {
    "collapsed": false
   },
   "outputs": [
    {
     "name": "stdout",
     "output_type": "stream",
     "text": [
      "No common contexts were found\n"
     ]
    }
   ],
   "source": [
    "text1.common_contexts(['monstrous', 'very'])"
   ]
  },
  {
   "cell_type": "code",
   "execution_count": 19,
   "metadata": {
    "collapsed": false
   },
   "outputs": [
    {
     "name": "stdout",
     "output_type": "stream",
     "text": [
      "a_pretty is_pretty a_lucky am_glad be_glad\n"
     ]
    }
   ],
   "source": [
    "text2.common_contexts(['monstrous', 'very'])"
   ]
  },
  {
   "cell_type": "code",
   "execution_count": 20,
   "metadata": {
    "collapsed": false
   },
   "outputs": [
    {
     "name": "stdout",
     "output_type": "stream",
     "text": [
      "Displaying 5 of 11 matches:\n",
      " Sir John . \" Now , Palmer , you shall see a monstrous pretty girl .\" He immediately went into the \n",
      "ry well ; your sister is to marry him . I am monstrous glad of it , for then I shall have her for a\n",
      ", and so you may tell your sister . She is a monstrous lucky girl to get him , upon my honour ; not\n",
      "n ' t think how you will like them . Lucy is monstrous pretty , and so good humoured and agreeable \n",
      "ried Mrs . Jennings , \" I am sure I shall be monstrous glad of Miss Marianne ' s company , whether \n"
     ]
    }
   ],
   "source": [
    "text2.concordance('monstrous', width=100, lines=5)"
   ]
  },
  {
   "cell_type": "code",
   "execution_count": 21,
   "metadata": {
    "collapsed": false
   },
   "outputs": [
    {
     "name": "stdout",
     "output_type": "stream",
     "text": [
      "Displaying 5 of 500 matches:\n",
      "f this estate was a single man , who lived to a very advanced age , and who for many years of his li\n",
      "ven have been made amiable himself ; for he was very young when he married , and very fond of his wi\n",
      "f ; for he was very young when he married , and very fond of his wife . But Mrs . John Dashwood was \n",
      "n his generosity to so large an amount . It was very well known that no affection was ever supposed \n",
      "oy --\" \" Why , to be sure ,\" said her husband , very gravely , \" that would make great difference . \n"
     ]
    }
   ],
   "source": [
    "text2.concordance('very', width=100, lines=5)"
   ]
  },
  {
   "cell_type": "code",
   "execution_count": 22,
   "metadata": {
    "collapsed": false
   },
   "outputs": [
    {
     "name": "stdout",
     "output_type": "stream",
     "text": [
      "No common contexts were found\n"
     ]
    }
   ],
   "source": [
    "text1.common_contexts(['exceedingly','sweet'])"
   ]
  },
  {
   "cell_type": "code",
   "execution_count": 23,
   "metadata": {
    "collapsed": false
   },
   "outputs": [],
   "source": [
    "# text4.dispersion_plot(['citizens', 'democracy', 'freedom', 'duties', 'America'])"
   ]
  },
  {
   "cell_type": "code",
   "execution_count": 24,
   "metadata": {
    "collapsed": false
   },
   "outputs": [
    {
     "name": "stdout",
     "output_type": "stream",
     "text": [
      "text1: Moby Dick by Herman Melville 1851\n",
      "text2: Sense and Sensibility by Jane Austen 1811\n",
      "text3: The Book of Genesis\n",
      "text4: Inaugural Address Corpus\n",
      "text5: Chat Corpus\n",
      "text6: Monty Python and the Holy Grail\n",
      "text7: Wall Street Journal\n",
      "text8: Personals Corpus\n",
      "text9: The Man Who Was Thursday by G . K . Chesterton 1908\n"
     ]
    }
   ],
   "source": [
    "texts()"
   ]
  },
  {
   "cell_type": "code",
   "execution_count": 32,
   "metadata": {
    "collapsed": false
   },
   "outputs": [],
   "source": [
    "import nltk\n",
    "text=text3.generate(text3)"
   ]
  },
  {
   "cell_type": "code",
   "execution_count": 33,
   "metadata": {
    "collapsed": false
   },
   "outputs": [
    {
     "data": {
      "text/plain": [
       "NoneType"
      ]
     },
     "execution_count": 33,
     "metadata": {},
     "output_type": "execute_result"
    }
   ],
   "source": [
    "type(text)"
   ]
  },
  {
   "cell_type": "code",
   "execution_count": 34,
   "metadata": {
    "collapsed": false
   },
   "outputs": [
    {
     "name": "stdout",
     "output_type": "stream",
     "text": [
      "<Text: The Fulton County Grand Jury said Friday an...>\n",
      "\n",
      "Concordance:\n",
      "Displaying 14 of 14 matches:\n",
      "altimore's Florida Grapefruit League news ripened considerably late today when\n",
      ". The appointment was announced at a news conference at which Skorich said he \n",
      " who will be the unhappiest over the news that Musial probably will sit out mo\n",
      "ts win a dramatic pennant . Romantic news concerns Mrs. Joan Monroe Armour and\n",
      "entific training , he added . `` The news of their experiments reaches the far\n",
      "resented in the averages . Some good news Although it looked like a routine te\n",
      "ters it was accompanied by some good news . A substantial rise in new orders a\n",
      " New York Social Register which made news last week . Published annually by Wi\n",
      "ut to President Kennedy at his first news conference last January was about hi\n",
      "ead as an exaggeration ( see foreign news ) , and the U.S. was agreeing with i\n",
      " to his private office and broke the news : he would lead the fight to oust Co\n",
      "to regard as `` an inferior man '' . News of Rayburn's commitment soon leaked \n",
      " moment . In 1920 , as the startling news that the 1919 White Sox had conspire\n",
      "embles . Soon after Loper leaked the news that Frankie had ordered `` two of e\n",
      "\n",
      "Distributionally similar words:\n",
      "charge advantage movement reports suggestion army work president\n",
      "committee return statement season driveway impression hope result best\n",
      "state bureau prices\n",
      "\n",
      "Collocations:\n",
      "per cent; New York; United States; White House; home runs; last week;\n",
      "San Francisco; last year; Los Angeles; anti-trust laws; Premier\n",
      "Khrushchev; Kansas City; President Kennedy; years ago; Air Force;\n",
      "United Nations; New Orleans; High School; Viet Nam; collective\n",
      "bargaining\n",
      "\n",
      "Dispersion plot:\n",
      "\n",
      "Vocabulary plot:\n",
      "\n",
      "Indexing:\n",
      "text[3]: Grand\n",
      "text[3:5]: [u'Grand', u'Jury']\n",
      "text.vocab()['news']: 13\n"
     ]
    }
   ],
   "source": [
    "nltk.text.demo()"
   ]
  },
  {
   "cell_type": "code",
   "execution_count": 3,
   "metadata": {
    "collapsed": false
   },
   "outputs": [
    {
     "name": "stdout",
     "output_type": "stream",
     "text": [
      "Displaying 1 of 1 matches:\n",
      "RTHUR : Look ! BLACK KNIGHT : Just a flesh wound . [ kick ] ARTHUR : Look , sto\n"
     ]
    }
   ],
   "source": [
    "text6.concordance('flesh')"
   ]
  },
  {
   "cell_type": "code",
   "execution_count": 4,
   "metadata": {
    "collapsed": false
   },
   "outputs": [
    {
     "name": "stdout",
     "output_type": "stream",
     "text": [
      "Displaying 14 of 14 matches:\n",
      "eath . He asks each traveller five questions -- GALAHAD : Three questions . ART\n",
      " five questions -- GALAHAD : Three questions . ARTHUR : Three questions . He wh\n",
      ": Three questions . ARTHUR : Three questions . He who answers the five question\n",
      "uestions . He who answers the five questions -- GALAHAD : Three questions . ART\n",
      " five questions -- GALAHAD : Three questions . ARTHUR : Three questions may cro\n",
      ": Three questions . ARTHUR : Three questions may cross in safety . ROBIN : What\n",
      "AHAD : Who ' s going to answer the questions ? ARTHUR : Sir Robin ! ROBIN : Yes\n",
      "n ! Hang on ! Just answer the five questions -- GALAHAD : Three questions . ART\n",
      " five questions -- GALAHAD : Three questions . ARTHUR : Three questions as best\n",
      ": Three questions . ARTHUR : Three questions as best you can . And we shall wat\n",
      "idge of Death must answer me these questions three , ere the other side he see \n",
      "de he see . LAUNCELOT : Ask me the questions , bridgekeeper . I am not afraid .\n",
      "idge of Death must answer me these questions three , ere the other side he see \n",
      "r side he see . ROBIN : Ask me the questions , bridgekeeper . I ' m not afraid \n"
     ]
    }
   ],
   "source": [
    "text6.concordance('questions')"
   ]
  },
  {
   "cell_type": "code",
   "execution_count": 9,
   "metadata": {
    "collapsed": false
   },
   "outputs": [
    {
     "name": "stdout",
     "output_type": "stream",
     "text": [
      "The nltk version is 3.2.2.\n",
      "The scikit-learn version is 0.18.1.\n"
     ]
    }
   ],
   "source": [
    "import nltk\n",
    "import sklearn\n",
    "\n",
    "print('The nltk version is {}.'.format(nltk.__version__))\n",
    "print('The scikit-learn version is {}.'.format(sklearn.__version__))"
   ]
  },
  {
   "cell_type": "code",
   "execution_count": 7,
   "metadata": {
    "collapsed": false
   },
   "outputs": [
    {
     "data": {
      "text/plain": [
       "44764"
      ]
     },
     "execution_count": 7,
     "metadata": {},
     "output_type": "execute_result"
    }
   ],
   "source": [
    "len(text3)  # Number of words and punctuation symbols in the book of Genesis."
   ]
  },
  {
   "cell_type": "code",
   "execution_count": 12,
   "metadata": {
    "collapsed": false
   },
   "outputs": [
    {
     "data": {
      "text/plain": [
       "[u'!',\n",
       " u\"'\",\n",
       " u'(',\n",
       " u')',\n",
       " u',',\n",
       " u',)',\n",
       " u'.',\n",
       " u'.)',\n",
       " u':',\n",
       " u';',\n",
       " u';)',\n",
       " u'?',\n",
       " u'?)',\n",
       " u'A',\n",
       " u'Abel',\n",
       " u'Abelmizraim',\n",
       " u'Abidah',\n",
       " u'Abide',\n",
       " u'Abimael',\n",
       " u'Abimelech',\n",
       " u'Abr',\n",
       " u'Abrah',\n",
       " u'Abraham',\n",
       " u'Abram',\n",
       " u'Accad',\n",
       " u'Achbor',\n",
       " u'Adah',\n",
       " u'Adam',\n",
       " u'Adbeel',\n",
       " u'Admah',\n",
       " u'Adullamite',\n",
       " u'After',\n",
       " u'Aholibamah',\n",
       " u'Ahuzzath',\n",
       " u'Ajah',\n",
       " u'Akan',\n",
       " u'All',\n",
       " u'Allonbachuth',\n",
       " u'Almighty',\n",
       " u'Almodad',\n",
       " u'Also',\n",
       " u'Alvah',\n",
       " u'Alvan',\n",
       " u'Am',\n",
       " u'Amal',\n",
       " u'Amalek',\n",
       " u'Amalekites',\n",
       " u'Ammon',\n",
       " u'Amorite',\n",
       " u'Amorites',\n",
       " u'Amraphel',\n",
       " u'An',\n",
       " u'Anah',\n",
       " u'Anamim',\n",
       " u'And',\n",
       " u'Aner',\n",
       " u'Angel',\n",
       " u'Appoint',\n",
       " u'Aram',\n",
       " u'Aran',\n",
       " u'Ararat',\n",
       " u'Arbah',\n",
       " u'Ard',\n",
       " u'Are',\n",
       " u'Areli',\n",
       " u'Arioch',\n",
       " u'Arise',\n",
       " u'Arkite',\n",
       " u'Arodi',\n",
       " u'Arphaxad',\n",
       " u'Art',\n",
       " u'Arvadite',\n",
       " u'As',\n",
       " u'Asenath',\n",
       " u'Ashbel',\n",
       " u'Asher',\n",
       " u'Ashkenaz',\n",
       " u'Ashteroth',\n",
       " u'Ask',\n",
       " u'Asshur',\n",
       " u'Asshurim',\n",
       " u'Assyr',\n",
       " u'Assyria',\n",
       " u'At',\n",
       " u'Atad',\n",
       " u'Avith',\n",
       " u'Baalhanan',\n",
       " u'Babel',\n",
       " u'Bashemath',\n",
       " u'Be',\n",
       " u'Because',\n",
       " u'Becher',\n",
       " u'Bedad',\n",
       " u'Beeri',\n",
       " u'Beerlahairoi',\n",
       " u'Beersheba',\n",
       " u'Behold',\n",
       " u'Bela',\n",
       " u'Belah',\n",
       " u'Benam',\n",
       " u'Benjamin',\n",
       " u'Beno',\n",
       " u'Beor',\n",
       " u'Bera',\n",
       " u'Bered',\n",
       " u'Beriah',\n",
       " u'Bethel',\n",
       " u'Bethlehem',\n",
       " u'Bethuel',\n",
       " u'Beware',\n",
       " u'Bilhah',\n",
       " u'Bilhan',\n",
       " u'Binding',\n",
       " u'Birsha',\n",
       " u'Bless',\n",
       " u'Blessed',\n",
       " u'Both',\n",
       " u'Bow',\n",
       " u'Bozrah',\n",
       " u'Bring',\n",
       " u'But',\n",
       " u'Buz',\n",
       " u'By',\n",
       " u'Cain',\n",
       " u'Cainan',\n",
       " u'Calah',\n",
       " u'Calneh',\n",
       " u'Can',\n",
       " u'Cana',\n",
       " u'Canaan',\n",
       " u'Canaanite',\n",
       " u'Canaanites',\n",
       " u'Canaanitish',\n",
       " u'Caphtorim',\n",
       " u'Carmi',\n",
       " u'Casluhim',\n",
       " u'Cast',\n",
       " u'Cause',\n",
       " u'Chaldees',\n",
       " u'Chedorlaomer',\n",
       " u'Cheran',\n",
       " u'Cherubims',\n",
       " u'Chesed',\n",
       " u'Chezib',\n",
       " u'Come',\n",
       " u'Cursed',\n",
       " u'Cush',\n",
       " u'Damascus',\n",
       " u'Dan',\n",
       " u'Day',\n",
       " u'Deborah',\n",
       " u'Dedan',\n",
       " u'Deliver',\n",
       " u'Diklah',\n",
       " u'Din',\n",
       " u'Dinah',\n",
       " u'Dinhabah',\n",
       " u'Discern',\n",
       " u'Dishan',\n",
       " u'Dishon',\n",
       " u'Do',\n",
       " u'Dodanim',\n",
       " u'Dothan',\n",
       " u'Drink',\n",
       " u'Duke',\n",
       " u'Dumah',\n",
       " u'Earth',\n",
       " u'Ebal',\n",
       " u'Eber',\n",
       " u'Edar',\n",
       " u'Eden',\n",
       " u'Edom',\n",
       " u'Edomites',\n",
       " u'Egy',\n",
       " u'Egypt',\n",
       " u'Egyptia',\n",
       " u'Egyptian',\n",
       " u'Egyptians',\n",
       " u'Ehi',\n",
       " u'Elah',\n",
       " u'Elam',\n",
       " u'Elbethel',\n",
       " u'Eldaah',\n",
       " u'EleloheIsrael',\n",
       " u'Eliezer',\n",
       " u'Eliphaz',\n",
       " u'Elishah',\n",
       " u'Ellasar',\n",
       " u'Elon',\n",
       " u'Elparan',\n",
       " u'Emins',\n",
       " u'En',\n",
       " u'Enmishpat',\n",
       " u'Eno',\n",
       " u'Enoch',\n",
       " u'Enos',\n",
       " u'Ephah',\n",
       " u'Epher',\n",
       " u'Ephra',\n",
       " u'Ephraim',\n",
       " u'Ephrath',\n",
       " u'Ephron',\n",
       " u'Er',\n",
       " u'Erech',\n",
       " u'Eri',\n",
       " u'Es',\n",
       " u'Esau',\n",
       " u'Escape',\n",
       " u'Esek',\n",
       " u'Eshban',\n",
       " u'Eshcol',\n",
       " u'Ethiopia',\n",
       " u'Euphrat',\n",
       " u'Euphrates',\n",
       " u'Eve',\n",
       " u'Even',\n",
       " u'Every',\n",
       " u'Except',\n",
       " u'Ezbon',\n",
       " u'Ezer',\n",
       " u'Fear',\n",
       " u'Feed',\n",
       " u'Fifteen',\n",
       " u'Fill',\n",
       " u'For',\n",
       " u'Forasmuch',\n",
       " u'Forgive',\n",
       " u'From',\n",
       " u'Fulfil',\n",
       " u'G',\n",
       " u'Gad',\n",
       " u'Gaham',\n",
       " u'Galeed',\n",
       " u'Gatam',\n",
       " u'Gather',\n",
       " u'Gaza',\n",
       " u'Gentiles',\n",
       " u'Gera',\n",
       " u'Gerar',\n",
       " u'Gershon',\n",
       " u'Get',\n",
       " u'Gether',\n",
       " u'Gihon',\n",
       " u'Gilead',\n",
       " u'Girgashites',\n",
       " u'Girgasite',\n",
       " u'Give',\n",
       " u'Go',\n",
       " u'God',\n",
       " u'Gomer',\n",
       " u'Gomorrah',\n",
       " u'Goshen',\n",
       " u'Guni',\n",
       " u'Hadad',\n",
       " u'Hadar',\n",
       " u'Hadoram',\n",
       " u'Hagar',\n",
       " u'Haggi',\n",
       " u'Hai',\n",
       " u'Ham',\n",
       " u'Hamathite',\n",
       " u'Hamor',\n",
       " u'Hamul',\n",
       " u'Hanoch',\n",
       " u'Happy',\n",
       " u'Haran',\n",
       " u'Hast',\n",
       " u'Haste',\n",
       " u'Have',\n",
       " u'Havilah',\n",
       " u'Hazarmaveth',\n",
       " u'Hazezontamar',\n",
       " u'Hazo',\n",
       " u'He',\n",
       " u'Hear',\n",
       " u'Heaven',\n",
       " u'Heber',\n",
       " u'Hebrew',\n",
       " u'Hebrews',\n",
       " u'Hebron',\n",
       " u'Hemam',\n",
       " u'Hemdan',\n",
       " u'Here',\n",
       " u'Hereby',\n",
       " u'Heth',\n",
       " u'Hezron',\n",
       " u'Hiddekel',\n",
       " u'Hinder',\n",
       " u'Hirah',\n",
       " u'His',\n",
       " u'Hitti',\n",
       " u'Hittite',\n",
       " u'Hittites',\n",
       " u'Hivite',\n",
       " u'Hobah',\n",
       " u'Hori',\n",
       " u'Horite',\n",
       " u'Horites',\n",
       " u'How',\n",
       " u'Hul',\n",
       " u'Huppim',\n",
       " u'Husham',\n",
       " u'Hushim',\n",
       " u'Huz',\n",
       " u'I',\n",
       " u'If',\n",
       " u'In',\n",
       " u'Irad',\n",
       " u'Iram',\n",
       " u'Is',\n",
       " u'Isa',\n",
       " u'Isaac',\n",
       " u'Iscah',\n",
       " u'Ishbak',\n",
       " u'Ishmael',\n",
       " u'Ishmeelites',\n",
       " u'Ishuah',\n",
       " u'Isra',\n",
       " u'Israel',\n",
       " u'Issachar',\n",
       " u'Isui',\n",
       " u'It',\n",
       " u'Ithran',\n",
       " u'Jaalam',\n",
       " u'Jabal',\n",
       " u'Jabbok',\n",
       " u'Jac',\n",
       " u'Jachin',\n",
       " u'Jacob',\n",
       " u'Jahleel',\n",
       " u'Jahzeel',\n",
       " u'Jamin',\n",
       " u'Japhe',\n",
       " u'Japheth',\n",
       " u'Jared',\n",
       " u'Javan',\n",
       " u'Jebusite',\n",
       " u'Jebusites',\n",
       " u'Jegarsahadutha',\n",
       " u'Jehovahjireh',\n",
       " u'Jemuel',\n",
       " u'Jerah',\n",
       " u'Jetheth',\n",
       " u'Jetur',\n",
       " u'Jeush',\n",
       " u'Jezer',\n",
       " u'Jidlaph',\n",
       " u'Jimnah',\n",
       " u'Job',\n",
       " u'Jobab',\n",
       " u'Jokshan',\n",
       " u'Joktan',\n",
       " u'Jordan',\n",
       " u'Joseph',\n",
       " u'Jubal',\n",
       " u'Judah',\n",
       " u'Judge',\n",
       " u'Judith',\n",
       " u'Kadesh',\n",
       " u'Kadmonites',\n",
       " u'Karnaim',\n",
       " u'Kedar',\n",
       " u'Kedemah',\n",
       " u'Kemuel',\n",
       " u'Kenaz',\n",
       " u'Kenites',\n",
       " u'Kenizzites',\n",
       " u'Keturah',\n",
       " u'Kiriathaim',\n",
       " u'Kirjatharba',\n",
       " u'Kittim',\n",
       " u'Know',\n",
       " u'Kohath',\n",
       " u'Kor',\n",
       " u'Korah',\n",
       " u'LO',\n",
       " u'LORD',\n",
       " u'Laban',\n",
       " u'Lahairoi',\n",
       " u'Lamech',\n",
       " u'Lasha',\n",
       " u'Lay',\n",
       " u'Leah',\n",
       " u'Lehabim',\n",
       " u'Lest',\n",
       " u'Let',\n",
       " u'Letushim',\n",
       " u'Leummim',\n",
       " u'Levi',\n",
       " u'Lie',\n",
       " u'Lift',\n",
       " u'Lo',\n",
       " u'Look',\n",
       " u'Lot',\n",
       " u'Lotan',\n",
       " u'Lud',\n",
       " u'Ludim',\n",
       " u'Luz',\n",
       " u'Maachah',\n",
       " u'Machir',\n",
       " u'Machpelah',\n",
       " u'Madai',\n",
       " u'Magdiel',\n",
       " u'Magog',\n",
       " u'Mahalaleel',\n",
       " u'Mahalath',\n",
       " u'Mahanaim',\n",
       " u'Make',\n",
       " u'Malchiel',\n",
       " u'Male',\n",
       " u'Mam',\n",
       " u'Mamre',\n",
       " u'Man',\n",
       " u'Manahath',\n",
       " u'Manass',\n",
       " u'Manasseh',\n",
       " u'Mash',\n",
       " u'Masrekah',\n",
       " u'Massa',\n",
       " u'Matred',\n",
       " u'Me',\n",
       " u'Medan',\n",
       " u'Mehetabel',\n",
       " u'Mehujael',\n",
       " u'Melchizedek',\n",
       " u'Merari',\n",
       " u'Mesha',\n",
       " u'Meshech',\n",
       " u'Mesopotamia',\n",
       " u'Methusa',\n",
       " u'Methusael',\n",
       " u'Methuselah',\n",
       " u'Mezahab',\n",
       " u'Mibsam',\n",
       " u'Mibzar',\n",
       " u'Midian',\n",
       " u'Midianites',\n",
       " u'Milcah',\n",
       " u'Mishma',\n",
       " u'Mizpah',\n",
       " u'Mizraim',\n",
       " u'Mizz',\n",
       " u'Moab',\n",
       " u'Moabites',\n",
       " u'Moreh',\n",
       " u'Moreover',\n",
       " u'Moriah',\n",
       " u'Muppim',\n",
       " u'My',\n",
       " u'Naamah',\n",
       " u'Naaman',\n",
       " u'Nahath',\n",
       " u'Nahor',\n",
       " u'Naphish',\n",
       " u'Naphtali',\n",
       " u'Naphtuhim',\n",
       " u'Nay',\n",
       " u'Nebajoth',\n",
       " u'Neither',\n",
       " u'Night',\n",
       " u'Nimrod',\n",
       " u'Nineveh',\n",
       " u'Noah',\n",
       " u'Nod',\n",
       " u'Not',\n",
       " u'Now',\n",
       " u'O',\n",
       " u'Obal',\n",
       " u'Of',\n",
       " u'Oh',\n",
       " u'Ohad',\n",
       " u'Omar',\n",
       " u'On',\n",
       " u'Onam',\n",
       " u'Onan',\n",
       " u'Only',\n",
       " u'Ophir',\n",
       " u'Our',\n",
       " u'Out',\n",
       " u'Padan',\n",
       " u'Padanaram',\n",
       " u'Paran',\n",
       " u'Pass',\n",
       " u'Pathrusim',\n",
       " u'Pau',\n",
       " u'Peace',\n",
       " u'Peleg',\n",
       " u'Peniel',\n",
       " u'Penuel',\n",
       " u'Peradventure',\n",
       " u'Perizzit',\n",
       " u'Perizzite',\n",
       " u'Perizzites',\n",
       " u'Phallu',\n",
       " u'Phara',\n",
       " u'Pharaoh',\n",
       " u'Pharez',\n",
       " u'Phichol',\n",
       " u'Philistim',\n",
       " u'Philistines',\n",
       " u'Phut',\n",
       " u'Phuvah',\n",
       " u'Pildash',\n",
       " u'Pinon',\n",
       " u'Pison',\n",
       " u'Potiphar',\n",
       " u'Potipherah',\n",
       " u'Put',\n",
       " u'Raamah',\n",
       " u'Rachel',\n",
       " u'Rameses',\n",
       " u'Rebek',\n",
       " u'Rebekah',\n",
       " u'Rehoboth',\n",
       " u'Remain',\n",
       " u'Rephaims',\n",
       " u'Resen',\n",
       " u'Return',\n",
       " u'Reu',\n",
       " u'Reub',\n",
       " u'Reuben',\n",
       " u'Reuel',\n",
       " u'Reumah',\n",
       " u'Riphath',\n",
       " u'Rosh',\n",
       " u'Sabtah',\n",
       " u'Sabtech',\n",
       " u'Said',\n",
       " u'Salah',\n",
       " u'Salem',\n",
       " u'Samlah',\n",
       " u'Sarah',\n",
       " u'Sarai',\n",
       " u'Saul',\n",
       " u'Save',\n",
       " u'Say',\n",
       " u'Se',\n",
       " u'Seba',\n",
       " u'See',\n",
       " u'Seeing',\n",
       " u'Seir',\n",
       " u'Sell',\n",
       " u'Send',\n",
       " u'Sephar',\n",
       " u'Serah',\n",
       " u'Sered',\n",
       " u'Serug',\n",
       " u'Set',\n",
       " u'Seth',\n",
       " u'Shalem',\n",
       " u'Shall',\n",
       " u'Shalt',\n",
       " u'Shammah',\n",
       " u'Shaul',\n",
       " u'Shaveh',\n",
       " u'She',\n",
       " u'Sheba',\n",
       " u'Shebah',\n",
       " u'Shechem',\n",
       " u'Shed',\n",
       " u'Shel',\n",
       " u'Shelah',\n",
       " u'Sheleph',\n",
       " u'Shem',\n",
       " u'Shemeber',\n",
       " u'Shepho',\n",
       " u'Shillem',\n",
       " u'Shiloh',\n",
       " u'Shimron',\n",
       " u'Shinab',\n",
       " u'Shinar',\n",
       " u'Shobal',\n",
       " u'Should',\n",
       " u'Shuah',\n",
       " u'Shuni',\n",
       " u'Shur',\n",
       " u'Sichem',\n",
       " u'Siddim',\n",
       " u'Sidon',\n",
       " u'Simeon',\n",
       " u'Sinite',\n",
       " u'Sitnah',\n",
       " u'Slay',\n",
       " u'So',\n",
       " u'Sod',\n",
       " u'Sodom',\n",
       " u'Sojourn',\n",
       " u'Some',\n",
       " u'Spake',\n",
       " u'Speak',\n",
       " u'Spirit',\n",
       " u'Stand',\n",
       " u'Succoth',\n",
       " u'Surely',\n",
       " u'Swear',\n",
       " u'Syrian',\n",
       " u'Take',\n",
       " u'Tamar',\n",
       " u'Tarshish',\n",
       " u'Tebah',\n",
       " u'Tell',\n",
       " u'Tema',\n",
       " u'Teman',\n",
       " u'Temani',\n",
       " u'Terah',\n",
       " u'Thahash',\n",
       " u'That',\n",
       " u'The',\n",
       " u'Then',\n",
       " u'There',\n",
       " u'Therefore',\n",
       " u'These',\n",
       " u'They',\n",
       " u'Thirty',\n",
       " u'This',\n",
       " u'Thorns',\n",
       " u'Thou',\n",
       " u'Thus',\n",
       " u'Thy',\n",
       " u'Tidal',\n",
       " u'Timna',\n",
       " u'Timnah',\n",
       " u'Timnath',\n",
       " u'Tiras',\n",
       " u'To',\n",
       " u'Togarmah',\n",
       " u'Tola',\n",
       " u'Tubal',\n",
       " u'Tubalcain',\n",
       " u'Twelve',\n",
       " u'Two',\n",
       " u'Unstable',\n",
       " u'Until',\n",
       " u'Unto',\n",
       " u'Up',\n",
       " u'Upon',\n",
       " u'Ur',\n",
       " u'Uz',\n",
       " u'Uzal',\n",
       " u'We',\n",
       " u'What',\n",
       " u'When',\n",
       " u'Whence',\n",
       " u'Where',\n",
       " u'Whereas',\n",
       " u'Wherefore',\n",
       " u'Which',\n",
       " u'While',\n",
       " u'Who',\n",
       " u'Whose',\n",
       " u'Whoso',\n",
       " u'Why',\n",
       " u'Wilt',\n",
       " u'With',\n",
       " u'Woman',\n",
       " u'Ye',\n",
       " u'Yea',\n",
       " u'Yet',\n",
       " u'Zaavan',\n",
       " u'Zaphnathpaaneah',\n",
       " u'Zar',\n",
       " u'Zarah',\n",
       " u'Zeboiim',\n",
       " u'Zeboim',\n",
       " u'Zebul',\n",
       " u'Zebulun',\n",
       " u'Zemarite',\n",
       " u'Zepho',\n",
       " u'Zerah',\n",
       " u'Zibeon',\n",
       " u'Zidon',\n",
       " u'Zillah',\n",
       " u'Zilpah',\n",
       " u'Zimran',\n",
       " u'Ziphion',\n",
       " u'Zo',\n",
       " u'Zoar',\n",
       " u'Zohar',\n",
       " u'Zuzims',\n",
       " u'a',\n",
       " u'abated',\n",
       " u'abide',\n",
       " u'able',\n",
       " u'abode',\n",
       " u'abomination',\n",
       " u'about',\n",
       " u'above',\n",
       " u'abroad',\n",
       " u'absent',\n",
       " u'abundantly',\n",
       " u'accept',\n",
       " u'accepted',\n",
       " u'according',\n",
       " u'acknowledged',\n",
       " u'activity',\n",
       " u'add',\n",
       " u'adder',\n",
       " u'afar',\n",
       " u'afflict',\n",
       " u'affliction',\n",
       " u'afraid',\n",
       " u'after',\n",
       " u'afterward',\n",
       " u'afterwards',\n",
       " u'aga',\n",
       " u'again',\n",
       " u'against',\n",
       " u'age',\n",
       " u'aileth',\n",
       " u'air',\n",
       " u'al',\n",
       " u'alive',\n",
       " u'all',\n",
       " u'almon',\n",
       " u'alo',\n",
       " u'alone',\n",
       " u'aloud',\n",
       " u'also',\n",
       " u'altar',\n",
       " u'altogether',\n",
       " u'always',\n",
       " u'am',\n",
       " u'among',\n",
       " u'amongst',\n",
       " u'an',\n",
       " u'and',\n",
       " u'angel',\n",
       " u'angels',\n",
       " u'anger',\n",
       " u'angry',\n",
       " u'anguish',\n",
       " u'anointedst',\n",
       " u'anoth',\n",
       " u'another',\n",
       " u'answer',\n",
       " u'answered',\n",
       " u'any',\n",
       " u'anything',\n",
       " u'appe',\n",
       " u'appear',\n",
       " u'appeared',\n",
       " u'appease',\n",
       " u'appoint',\n",
       " u'appointed',\n",
       " u'aprons',\n",
       " u'archer',\n",
       " u'archers',\n",
       " u'are',\n",
       " u'arise',\n",
       " u'ark',\n",
       " u'armed',\n",
       " u'arms',\n",
       " u'army',\n",
       " u'arose',\n",
       " u'arrayed',\n",
       " u'art',\n",
       " u'artificer',\n",
       " u'as',\n",
       " u'ascending',\n",
       " u'ash',\n",
       " u'ashamed',\n",
       " u'ask',\n",
       " u'asked',\n",
       " u'asketh',\n",
       " u'ass',\n",
       " u'assembly',\n",
       " u'asses',\n",
       " u'assigned',\n",
       " u'asswaged',\n",
       " u'at',\n",
       " u'attained',\n",
       " u'audience',\n",
       " u'avenged',\n",
       " u'aw',\n",
       " u'awaked',\n",
       " u'away',\n",
       " u'awoke',\n",
       " u'back',\n",
       " u'backward',\n",
       " u'bad',\n",
       " u'bade',\n",
       " u'badest',\n",
       " u'badne',\n",
       " u'bak',\n",
       " u'bake',\n",
       " u'bakemeats',\n",
       " u'baker',\n",
       " u'bakers',\n",
       " u'balm',\n",
       " u'bands',\n",
       " u'bank',\n",
       " u'bare',\n",
       " u'barr',\n",
       " u'barren',\n",
       " u'basket',\n",
       " u'baskets',\n",
       " u'battle',\n",
       " u'bdellium',\n",
       " u'be',\n",
       " u'bear',\n",
       " u'beari',\n",
       " u'bearing',\n",
       " u'beast',\n",
       " u'beasts',\n",
       " u'beautiful',\n",
       " u'became',\n",
       " u'because',\n",
       " u'become',\n",
       " u'bed',\n",
       " u'been',\n",
       " u'befall',\n",
       " u'befell',\n",
       " u'before',\n",
       " u'began',\n",
       " u'begat',\n",
       " u'beget',\n",
       " u'begettest',\n",
       " u'begin',\n",
       " u'beginning',\n",
       " u'begotten',\n",
       " u'beguiled',\n",
       " u'beheld',\n",
       " u'behind',\n",
       " u'behold',\n",
       " u'being',\n",
       " u'believed',\n",
       " u'belly',\n",
       " u'belong',\n",
       " u'beneath',\n",
       " u'bereaved',\n",
       " u'beside',\n",
       " u'besides',\n",
       " u'besought',\n",
       " u'best',\n",
       " u'betimes',\n",
       " u'better',\n",
       " u'between',\n",
       " u'betwixt',\n",
       " u'beyond',\n",
       " u'binding',\n",
       " u'bird',\n",
       " u'birds',\n",
       " u'birthday',\n",
       " u'birthright',\n",
       " u'biteth',\n",
       " u'bitter',\n",
       " u'blame',\n",
       " u'blameless',\n",
       " u'blasted',\n",
       " u'bless',\n",
       " u'blessed',\n",
       " u'blesseth',\n",
       " u'blessi',\n",
       " u'blessing',\n",
       " u'blessings',\n",
       " u'blindness',\n",
       " u'blood',\n",
       " u'blossoms',\n",
       " u'bodies',\n",
       " u'boldly',\n",
       " u'bondman',\n",
       " u'bondmen',\n",
       " u'bondwoman',\n",
       " u'bone',\n",
       " u'bones',\n",
       " u'book',\n",
       " u'booths',\n",
       " u'border',\n",
       " u'borders',\n",
       " u'born',\n",
       " u'bosom',\n",
       " u'both',\n",
       " u'bottle',\n",
       " u'bou',\n",
       " u'boug',\n",
       " u'bough',\n",
       " u'bought',\n",
       " u'bound',\n",
       " u'bow',\n",
       " u'bowed',\n",
       " u'bowels',\n",
       " u'bowing',\n",
       " u'boys',\n",
       " u'bracelets',\n",
       " u'branches',\n",
       " u'brass',\n",
       " u'bre',\n",
       " u'breach',\n",
       " u'bread',\n",
       " u'breadth',\n",
       " u'break',\n",
       " u'breaketh',\n",
       " u'breaking',\n",
       " u'breasts',\n",
       " u'breath',\n",
       " u'breathed',\n",
       " u'breed',\n",
       " u'brethren',\n",
       " u'brick',\n",
       " u'brimstone',\n",
       " u'bring',\n",
       " u'brink',\n",
       " u'broken',\n",
       " u'brook',\n",
       " u'broth',\n",
       " u'brother',\n",
       " u'brought',\n",
       " u'brown',\n",
       " u'bruise',\n",
       " u'budded',\n",
       " u'build',\n",
       " u'builded',\n",
       " u'built',\n",
       " u'bulls',\n",
       " u'bundle',\n",
       " u'bundles',\n",
       " u'burdens',\n",
       " u'buried',\n",
       " u'burn',\n",
       " u'burning',\n",
       " u'burnt',\n",
       " u'bury',\n",
       " u'buryingplace',\n",
       " u'business',\n",
       " u'but',\n",
       " u'butler',\n",
       " u'butlers',\n",
       " u'butlership',\n",
       " u'butter',\n",
       " u'buy',\n",
       " u'by',\n",
       " u'cakes',\n",
       " u'calf',\n",
       " u'call',\n",
       " u'called',\n",
       " u'came',\n",
       " u'camel',\n",
       " u'camels',\n",
       " u'camest',\n",
       " u'can',\n",
       " u'cannot',\n",
       " u'canst',\n",
       " u'captain',\n",
       " u'captive',\n",
       " u'captives',\n",
       " u'carcases',\n",
       " u'carried',\n",
       " u'carry',\n",
       " u'cast',\n",
       " u'castles',\n",
       " u'catt',\n",
       " u'cattle',\n",
       " u'caught',\n",
       " u'cause',\n",
       " u'caused',\n",
       " u'cave',\n",
       " u'cease',\n",
       " u'ceased',\n",
       " u'certain',\n",
       " u'certainly',\n",
       " u'chain',\n",
       " u'chamber',\n",
       " u'change',\n",
       " u'changed',\n",
       " u'changes',\n",
       " u'charge',\n",
       " u'charged',\n",
       " u'chariot',\n",
       " u'chariots',\n",
       " u'chesnut',\n",
       " u'chi',\n",
       " u'chief',\n",
       " u'child',\n",
       " u'childless',\n",
       " u'childr',\n",
       " u'children',\n",
       " u'chode',\n",
       " u'choice',\n",
       " u'chose',\n",
       " u'circumcis',\n",
       " u'circumcise',\n",
       " u'circumcised',\n",
       " u'citi',\n",
       " u'cities',\n",
       " u'city',\n",
       " u'clave',\n",
       " u'clean',\n",
       " u'clear',\n",
       " u'cleave',\n",
       " u'clo',\n",
       " u'closed',\n",
       " u'clothed',\n",
       " u'clothes',\n",
       " u'cloud',\n",
       " u'clusters',\n",
       " u'co',\n",
       " u'coat',\n",
       " u'coats',\n",
       " u'coffin',\n",
       " u'cold',\n",
       " ...]"
      ]
     },
     "execution_count": 12,
     "metadata": {},
     "output_type": "execute_result"
    }
   ],
   "source": [
    "sorted(set(text3))"
   ]
  },
  {
   "cell_type": "code",
   "execution_count": 11,
   "metadata": {
    "collapsed": false
   },
   "outputs": [
    {
     "data": {
      "text/plain": [
       "2789"
      ]
     },
     "execution_count": 11,
     "metadata": {},
     "output_type": "execute_result"
    }
   ],
   "source": [
    "len(set(text3))  # The set of tokens present in Genesis."
   ]
  },
  {
   "cell_type": "code",
   "execution_count": 13,
   "metadata": {
    "collapsed": false
   },
   "outputs": [
    {
     "data": {
      "text/plain": [
       "16"
      ]
     },
     "execution_count": 13,
     "metadata": {},
     "output_type": "execute_result"
    }
   ],
   "source": [
    "len(text3)/len(set(text3))"
   ]
  },
  {
   "cell_type": "code",
   "execution_count": 14,
   "metadata": {
    "collapsed": false
   },
   "outputs": [
    {
     "data": {
      "text/plain": [
       "7"
      ]
     },
     "execution_count": 14,
     "metadata": {},
     "output_type": "execute_result"
    }
   ],
   "source": [
    "len(text6)/len(set(text6))"
   ]
  },
  {
   "cell_type": "code",
   "execution_count": 15,
   "metadata": {
    "collapsed": false
   },
   "outputs": [
    {
     "data": {
      "text/plain": [
       "2166"
      ]
     },
     "execution_count": 15,
     "metadata": {},
     "output_type": "execute_result"
    }
   ],
   "source": [
    "len(set(text6))"
   ]
  },
  {
   "cell_type": "code",
   "execution_count": 16,
   "metadata": {
    "collapsed": false
   },
   "outputs": [
    {
     "data": {
      "text/plain": [
       "16967"
      ]
     },
     "execution_count": 16,
     "metadata": {},
     "output_type": "execute_result"
    }
   ],
   "source": [
    "len(text6)"
   ]
  },
  {
   "cell_type": "code",
   "execution_count": 18,
   "metadata": {
    "collapsed": false
   },
   "outputs": [
    {
     "data": {
      "text/plain": [
       "16.050197203298673"
      ]
     },
     "execution_count": 18,
     "metadata": {},
     "output_type": "execute_result"
    }
   ],
   "source": [
    "from __future__ import division\n",
    "\n",
    "len(text3)/len(set(text3))"
   ]
  },
  {
   "cell_type": "code",
   "execution_count": 19,
   "metadata": {
    "collapsed": false
   },
   "outputs": [
    {
     "data": {
      "text/plain": [
       "5"
      ]
     },
     "execution_count": 19,
     "metadata": {},
     "output_type": "execute_result"
    }
   ],
   "source": [
    "text3.count(\"smote\")"
   ]
  },
  {
   "cell_type": "code",
   "execution_count": 20,
   "metadata": {
    "collapsed": false
   },
   "outputs": [
    {
     "data": {
      "text/plain": [
       "1.4643016433938312"
      ]
     },
     "execution_count": 20,
     "metadata": {},
     "output_type": "execute_result"
    }
   ],
   "source": [
    "100*text4.count('a')/len(text4)"
   ]
  },
  {
   "cell_type": "code",
   "execution_count": 21,
   "metadata": {
    "collapsed": false
   },
   "outputs": [
    {
     "data": {
      "text/plain": [
       "704"
      ]
     },
     "execution_count": 21,
     "metadata": {},
     "output_type": "execute_result"
    }
   ],
   "source": [
    "text5.count('lol')"
   ]
  },
  {
   "cell_type": "code",
   "execution_count": 22,
   "metadata": {
    "collapsed": false
   },
   "outputs": [
    {
     "data": {
      "text/plain": [
       "<Text: Chat Corpus>"
      ]
     },
     "execution_count": 22,
     "metadata": {},
     "output_type": "execute_result"
    }
   ],
   "source": [
    "text5"
   ]
  },
  {
   "cell_type": "code",
   "execution_count": 23,
   "metadata": {
    "collapsed": false
   },
   "outputs": [
    {
     "data": {
      "text/plain": [
       "15"
      ]
     },
     "execution_count": 23,
     "metadata": {},
     "output_type": "execute_result"
    }
   ],
   "source": [
    "text5.count('fuck')"
   ]
  },
  {
   "cell_type": "code",
   "execution_count": 24,
   "metadata": {
    "collapsed": false
   },
   "outputs": [
    {
     "data": {
      "text/plain": [
       "0"
      ]
     },
     "execution_count": 24,
     "metadata": {},
     "output_type": "execute_result"
    }
   ],
   "source": [
    "text5.count('yolo')"
   ]
  },
  {
   "cell_type": "code",
   "execution_count": 25,
   "metadata": {
    "collapsed": false
   },
   "outputs": [
    {
     "data": {
      "text/plain": [
       "1.5640968673628082"
      ]
     },
     "execution_count": 25,
     "metadata": {},
     "output_type": "execute_result"
    }
   ],
   "source": [
    "100*text5.count('lol')/len(text5)"
   ]
  },
  {
   "cell_type": "code",
   "execution_count": 26,
   "metadata": {
    "collapsed": false
   },
   "outputs": [
    {
     "data": {
      "text/plain": [
       "45010"
      ]
     },
     "execution_count": 26,
     "metadata": {},
     "output_type": "execute_result"
    }
   ],
   "source": [
    "len(text5)"
   ]
  },
  {
   "cell_type": "code",
   "execution_count": 27,
   "metadata": {
    "collapsed": true
   },
   "outputs": [],
   "source": [
    "def lexical_diversity(text):\n",
    "    return len(text) / len(set(text))"
   ]
  },
  {
   "cell_type": "code",
   "execution_count": 28,
   "metadata": {
    "collapsed": true
   },
   "outputs": [],
   "source": [
    "def percentage(count, total):\n",
    "    return count/total*100"
   ]
  },
  {
   "cell_type": "code",
   "execution_count": 29,
   "metadata": {
    "collapsed": false
   },
   "outputs": [
    {
     "data": {
      "text/plain": [
       "7.420046158918563"
      ]
     },
     "execution_count": 29,
     "metadata": {},
     "output_type": "execute_result"
    }
   ],
   "source": [
    "lexical_diversity(text5)"
   ]
  },
  {
   "cell_type": "code",
   "execution_count": 30,
   "metadata": {
    "collapsed": false
   },
   "outputs": [
    {
     "data": {
      "text/plain": [
       "10.0"
      ]
     },
     "execution_count": 30,
     "metadata": {},
     "output_type": "execute_result"
    }
   ],
   "source": [
    "percentage(10, 100)"
   ]
  },
  {
   "cell_type": "code",
   "execution_count": 31,
   "metadata": {
    "collapsed": false
   },
   "outputs": [
    {
     "data": {
      "text/plain": [
       "16.050197203298673"
      ]
     },
     "execution_count": 31,
     "metadata": {},
     "output_type": "execute_result"
    }
   ],
   "source": [
    "lexical_diversity(text3)"
   ]
  },
  {
   "cell_type": "code",
   "execution_count": 32,
   "metadata": {
    "collapsed": false
   },
   "outputs": [
    {
     "data": {
      "text/plain": [
       "7.420046158918563"
      ]
     },
     "execution_count": 32,
     "metadata": {},
     "output_type": "execute_result"
    }
   ],
   "source": [
    "lexical_diversity(text5)"
   ]
  },
  {
   "cell_type": "code",
   "execution_count": 33,
   "metadata": {
    "collapsed": false
   },
   "outputs": [
    {
     "data": {
      "text/plain": [
       "80.0"
      ]
     },
     "execution_count": 33,
     "metadata": {},
     "output_type": "execute_result"
    }
   ],
   "source": [
    "percentage(4, 5)"
   ]
  },
  {
   "cell_type": "code",
   "execution_count": 34,
   "metadata": {
    "collapsed": false
   },
   "outputs": [
    {
     "data": {
      "text/plain": [
       "1.4643016433938312"
      ]
     },
     "execution_count": 34,
     "metadata": {},
     "output_type": "execute_result"
    }
   ],
   "source": [
    "percentage(text4.count('a'), len(text4))"
   ]
  },
  {
   "cell_type": "code",
   "execution_count": 35,
   "metadata": {
    "collapsed": true
   },
   "outputs": [],
   "source": [
    "sent1=['Call', 'me', 'Ismael', '.']"
   ]
  },
  {
   "cell_type": "code",
   "execution_count": 36,
   "metadata": {
    "collapsed": false
   },
   "outputs": [
    {
     "data": {
      "text/plain": [
       "['Call', 'me', 'Ismael', '.']"
      ]
     },
     "execution_count": 36,
     "metadata": {},
     "output_type": "execute_result"
    }
   ],
   "source": [
    "sent1"
   ]
  },
  {
   "cell_type": "code",
   "execution_count": 37,
   "metadata": {
    "collapsed": false
   },
   "outputs": [
    {
     "data": {
      "text/plain": [
       "1.0"
      ]
     },
     "execution_count": 37,
     "metadata": {},
     "output_type": "execute_result"
    }
   ],
   "source": [
    "lexical_diversity(sent1)"
   ]
  },
  {
   "cell_type": "code",
   "execution_count": null,
   "metadata": {
    "collapsed": true
   },
   "outputs": [],
   "source": [
    "copy acoustics today material to laptop..."
   ]
  }
 ],
 "metadata": {
  "kernelspec": {
   "display_name": "Python 2",
   "language": "python",
   "name": "python2"
  },
  "language_info": {
   "codemirror_mode": {
    "name": "ipython",
    "version": 2
   },
   "file_extension": ".py",
   "mimetype": "text/x-python",
   "name": "python",
   "nbconvert_exporter": "python",
   "pygments_lexer": "ipython2",
   "version": "2.7.11"
  }
 },
 "nbformat": 4,
 "nbformat_minor": 0
}
